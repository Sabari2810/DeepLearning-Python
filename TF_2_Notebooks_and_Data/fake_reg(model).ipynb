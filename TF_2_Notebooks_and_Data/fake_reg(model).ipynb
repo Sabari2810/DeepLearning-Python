{
 "cells": [
  {
   "cell_type": "code",
   "execution_count": 1,
   "metadata": {},
   "outputs": [],
   "source": [
    "import pandas as pd\n",
    "import numpy as np\n",
    "import seaborn as sns"
   ]
  },
  {
   "cell_type": "code",
   "execution_count": 2,
   "metadata": {},
   "outputs": [],
   "source": [
    "from sklearn.model_selection import train_test_split"
   ]
  },
  {
   "cell_type": "code",
   "execution_count": 3,
   "metadata": {},
   "outputs": [],
   "source": [
    "df = pd.read_csv('DATA/fake_reg.csv')"
   ]
  },
  {
   "cell_type": "code",
   "execution_count": 4,
   "metadata": {},
   "outputs": [
    {
     "data": {
      "text/html": [
       "<div>\n",
       "<style scoped>\n",
       "    .dataframe tbody tr th:only-of-type {\n",
       "        vertical-align: middle;\n",
       "    }\n",
       "\n",
       "    .dataframe tbody tr th {\n",
       "        vertical-align: top;\n",
       "    }\n",
       "\n",
       "    .dataframe thead th {\n",
       "        text-align: right;\n",
       "    }\n",
       "</style>\n",
       "<table border=\"1\" class=\"dataframe\">\n",
       "  <thead>\n",
       "    <tr style=\"text-align: right;\">\n",
       "      <th></th>\n",
       "      <th>price</th>\n",
       "      <th>feature1</th>\n",
       "      <th>feature2</th>\n",
       "    </tr>\n",
       "  </thead>\n",
       "  <tbody>\n",
       "    <tr>\n",
       "      <th>0</th>\n",
       "      <td>461.527929</td>\n",
       "      <td>999.787558</td>\n",
       "      <td>999.766096</td>\n",
       "    </tr>\n",
       "    <tr>\n",
       "      <th>1</th>\n",
       "      <td>548.130011</td>\n",
       "      <td>998.861615</td>\n",
       "      <td>1001.042403</td>\n",
       "    </tr>\n",
       "    <tr>\n",
       "      <th>2</th>\n",
       "      <td>410.297162</td>\n",
       "      <td>1000.070267</td>\n",
       "      <td>998.844015</td>\n",
       "    </tr>\n",
       "    <tr>\n",
       "      <th>3</th>\n",
       "      <td>540.382220</td>\n",
       "      <td>999.952251</td>\n",
       "      <td>1000.440940</td>\n",
       "    </tr>\n",
       "    <tr>\n",
       "      <th>4</th>\n",
       "      <td>546.024553</td>\n",
       "      <td>1000.446011</td>\n",
       "      <td>1000.338531</td>\n",
       "    </tr>\n",
       "  </tbody>\n",
       "</table>\n",
       "</div>"
      ],
      "text/plain": [
       "        price     feature1     feature2\n",
       "0  461.527929   999.787558   999.766096\n",
       "1  548.130011   998.861615  1001.042403\n",
       "2  410.297162  1000.070267   998.844015\n",
       "3  540.382220   999.952251  1000.440940\n",
       "4  546.024553  1000.446011  1000.338531"
      ]
     },
     "execution_count": 4,
     "metadata": {},
     "output_type": "execute_result"
    }
   ],
   "source": [
    "df.head()"
   ]
  },
  {
   "cell_type": "code",
   "execution_count": 5,
   "metadata": {},
   "outputs": [],
   "source": [
    "X = df[['feature1','feature2']].values"
   ]
  },
  {
   "cell_type": "code",
   "execution_count": 6,
   "metadata": {},
   "outputs": [],
   "source": [
    "y = df['price'].values"
   ]
  },
  {
   "cell_type": "code",
   "execution_count": 7,
   "metadata": {},
   "outputs": [],
   "source": [
    "X_train,X_test,y_train,y_test = train_test_split(X,y,test_size=0.3,random_state=42)"
   ]
  },
  {
   "cell_type": "code",
   "execution_count": 8,
   "metadata": {},
   "outputs": [
    {
     "data": {
      "text/plain": [
       "array([[1001.63407565,  998.80950388],\n",
       "       [ 999.76150137,  998.41802414],\n",
       "       [ 998.2638401 , 1000.92030063],\n",
       "       ...,\n",
       "       [1000.47386523, 1001.44542815],\n",
       "       [ 998.8625673 ,  999.15662112],\n",
       "       [1000.55690247,  999.35441706]])"
      ]
     },
     "execution_count": 8,
     "metadata": {},
     "output_type": "execute_result"
    }
   ],
   "source": [
    "X_train"
   ]
  },
  {
   "cell_type": "code",
   "execution_count": 9,
   "metadata": {},
   "outputs": [],
   "source": [
    "from sklearn.preprocessing import MinMaxScaler"
   ]
  },
  {
   "cell_type": "code",
   "execution_count": 10,
   "metadata": {},
   "outputs": [],
   "source": [
    "scaler = MinMaxScaler()"
   ]
  },
  {
   "cell_type": "code",
   "execution_count": 11,
   "metadata": {},
   "outputs": [
    {
     "data": {
      "text/plain": [
       "MinMaxScaler()"
      ]
     },
     "execution_count": 11,
     "metadata": {},
     "output_type": "execute_result"
    }
   ],
   "source": [
    "scaler.fit(X_train)"
   ]
  },
  {
   "cell_type": "code",
   "execution_count": 12,
   "metadata": {},
   "outputs": [],
   "source": [
    "X_train = scaler.transform(X_train)\n",
    "X_test = scaler.transform(X_test)"
   ]
  },
  {
   "cell_type": "code",
   "execution_count": 13,
   "metadata": {},
   "outputs": [],
   "source": [
    "from tensorflow.keras.models import Sequential\n",
    "from tensorflow.keras.layers import Dense"
   ]
  },
  {
   "cell_type": "code",
   "execution_count": 14,
   "metadata": {},
   "outputs": [],
   "source": [
    "model = Sequential()"
   ]
  },
  {
   "cell_type": "code",
   "execution_count": 15,
   "metadata": {},
   "outputs": [],
   "source": [
    "model.add(Dense(4,activation='relu'))\n",
    "model.add(Dense(4,activation='relu'))\n",
    "model.add(Dense(4,activation='relu'))\n",
    "\n",
    "model.add(Dense(1))"
   ]
  },
  {
   "cell_type": "code",
   "execution_count": 16,
   "metadata": {},
   "outputs": [],
   "source": [
    "model.compile(optimizer='rmsprop',loss='mse')"
   ]
  },
  {
   "cell_type": "code",
   "execution_count": 17,
   "metadata": {},
   "outputs": [
    {
     "name": "stdout",
     "output_type": "stream",
     "text": [
      "Epoch 1/250\n",
      "22/22 [==============================] - 3s 3ms/step - loss: 256926.1678\n",
      "Epoch 2/250\n",
      "22/22 [==============================] - 0s 3ms/step - loss: 258494.9810\n",
      "Epoch 3/250\n",
      "22/22 [==============================] - 0s 3ms/step - loss: 259094.9986\n",
      "Epoch 4/250\n",
      "22/22 [==============================] - 0s 3ms/step - loss: 253342.0543\n",
      "Epoch 5/250\n",
      "22/22 [==============================] - 0s 3ms/step - loss: 253056.9531\n",
      "Epoch 6/250\n",
      "22/22 [==============================] - 0s 4ms/step - loss: 250283.1698\n",
      "Epoch 7/250\n",
      "22/22 [==============================] - 0s 2ms/step - loss: 252008.0992\n",
      "Epoch 8/250\n",
      "22/22 [==============================] - 0s 3ms/step - loss: 255696.2004\n",
      "Epoch 9/250\n",
      "22/22 [==============================] - ETA: 0s - loss: 252652.85 - ETA: 0s - loss: 253933.55 - 0s 3ms/step - loss: 254089.9463\n",
      "Epoch 10/250\n",
      "22/22 [==============================] - 0s 3ms/step - loss: 260650.9212\n",
      "Epoch 11/250\n",
      "22/22 [==============================] - 0s 2ms/step - loss: 255375.4939\n",
      "Epoch 12/250\n",
      "22/22 [==============================] - 0s 3ms/step - loss: 259608.7649\n",
      "Epoch 13/250\n",
      "22/22 [==============================] - 0s 4ms/step - loss: 251456.3125\n",
      "Epoch 14/250\n",
      "22/22 [==============================] - 0s 3ms/step - loss: 249062.2466\n",
      "Epoch 15/250\n",
      "22/22 [==============================] - 0s 2ms/step - loss: 249297.8431\n",
      "Epoch 16/250\n",
      "22/22 [==============================] - 0s 3ms/step - loss: 245175.3954\n",
      "Epoch 17/250\n",
      "22/22 [==============================] - 0s 3ms/step - loss: 250581.8043\n",
      "Epoch 18/250\n",
      "22/22 [==============================] - 0s 3ms/step - loss: 255139.6950\n",
      "Epoch 19/250\n",
      "22/22 [==============================] - 0s 2ms/step - loss: 252137.2011\n",
      "Epoch 20/250\n",
      "22/22 [==============================] - 0s 3ms/step - loss: 250167.4823\n",
      "Epoch 21/250\n",
      "22/22 [==============================] - 0s 3ms/step - loss: 251771.3030\n",
      "Epoch 22/250\n",
      "22/22 [==============================] - 0s 3ms/step - loss: 251012.3546\n",
      "Epoch 23/250\n",
      "22/22 [==============================] - 0s 4ms/step - loss: 244160.5679\n",
      "Epoch 24/250\n",
      "22/22 [==============================] - 0s 4ms/step - loss: 245632.6467\n",
      "Epoch 25/250\n",
      "22/22 [==============================] - 0s 3ms/step - loss: 239887.6182\n",
      "Epoch 26/250\n",
      "22/22 [==============================] - 0s 4ms/step - loss: 245621.6067\n",
      "Epoch 27/250\n",
      "22/22 [==============================] - 0s 3ms/step - loss: 243929.6284\n",
      "Epoch 28/250\n",
      "22/22 [==============================] - 0s 3ms/step - loss: 246443.1630\n",
      "Epoch 29/250\n",
      "22/22 [==============================] - 0s 2ms/step - loss: 236592.5285\n",
      "Epoch 30/250\n",
      "22/22 [==============================] - 0s 4ms/step - loss: 240272.0360\n",
      "Epoch 31/250\n",
      "22/22 [==============================] - 0s 4ms/step - loss: 243507.5177\n",
      "Epoch 32/250\n",
      "22/22 [==============================] - 0s 3ms/step - loss: 242412.3553\n",
      "Epoch 33/250\n",
      "22/22 [==============================] - 0s 4ms/step - loss: 236675.8770\n",
      "Epoch 34/250\n",
      "22/22 [==============================] - 0s 3ms/step - loss: 232823.6943\n",
      "Epoch 35/250\n",
      "22/22 [==============================] - 0s 3ms/step - loss: 232166.1155\n",
      "Epoch 36/250\n",
      "22/22 [==============================] - 0s 3ms/step - loss: 233293.9069\n",
      "Epoch 37/250\n",
      "22/22 [==============================] - 0s 3ms/step - loss: 232843.5802\n",
      "Epoch 38/250\n",
      "22/22 [==============================] - 0s 3ms/step - loss: 226964.3105\n",
      "Epoch 39/250\n",
      "22/22 [==============================] - 0s 3ms/step - loss: 226550.1719\n",
      "Epoch 40/250\n",
      "22/22 [==============================] - 0s 3ms/step - loss: 220602.4667\n",
      "Epoch 41/250\n",
      "22/22 [==============================] - 0s 3ms/step - loss: 218538.1644\n",
      "Epoch 42/250\n",
      "22/22 [==============================] - 0s 3ms/step - loss: 212689.4436\n",
      "Epoch 43/250\n",
      "22/22 [==============================] - 0s 3ms/step - loss: 213592.2412\n",
      "Epoch 44/250\n",
      "22/22 [==============================] - 0s 3ms/step - loss: 212337.2779\n",
      "Epoch 45/250\n",
      "22/22 [==============================] - 0s 2ms/step - loss: 207385.6080\n",
      "Epoch 46/250\n",
      "22/22 [==============================] - 0s 3ms/step - loss: 213662.2330\n",
      "Epoch 47/250\n",
      "22/22 [==============================] - 0s 5ms/step - loss: 206566.8268\n",
      "Epoch 48/250\n",
      "22/22 [==============================] - 0s 3ms/step - loss: 203001.5034\n",
      "Epoch 49/250\n",
      "22/22 [==============================] - 0s 3ms/step - loss: 201118.2541\n",
      "Epoch 50/250\n",
      "22/22 [==============================] - 0s 3ms/step - loss: 193643.9035\n",
      "Epoch 51/250\n",
      "22/22 [==============================] - 0s 2ms/step - loss: 187440.2344\n",
      "Epoch 52/250\n",
      "22/22 [==============================] - 0s 3ms/step - loss: 189277.7398\n",
      "Epoch 53/250\n",
      "22/22 [==============================] - 0s 3ms/step - loss: 184007.5448\n",
      "Epoch 54/250\n",
      "22/22 [==============================] - 0s 4ms/step - loss: 180561.1651\n",
      "Epoch 55/250\n",
      "22/22 [==============================] - 0s 3ms/step - loss: 176552.5143\n",
      "Epoch 56/250\n",
      "22/22 [==============================] - 0s 2ms/step - loss: 171608.2636\n",
      "Epoch 57/250\n",
      "22/22 [==============================] - 0s 2ms/step - loss: 169408.6223\n",
      "Epoch 58/250\n",
      "22/22 [==============================] - 0s 4ms/step - loss: 162560.2833\n",
      "Epoch 59/250\n",
      "22/22 [==============================] - 0s 3ms/step - loss: 162086.0367\n",
      "Epoch 60/250\n",
      "22/22 [==============================] - 0s 2ms/step - loss: 158243.5971\n",
      "Epoch 61/250\n",
      "22/22 [==============================] - 0s 3ms/step - loss: 150255.3173\n",
      "Epoch 62/250\n",
      "22/22 [==============================] - 0s 3ms/step - loss: 145250.3064\n",
      "Epoch 63/250\n",
      "22/22 [==============================] - 0s 3ms/step - loss: 142688.7575\n",
      "Epoch 64/250\n",
      "22/22 [==============================] - 0s 2ms/step - loss: 136441.4688\n",
      "Epoch 65/250\n",
      "22/22 [==============================] - 0s 5ms/step - loss: 130980.5414\n",
      "Epoch 66/250\n",
      "22/22 [==============================] - 0s 3ms/step - loss: 126277.2599: 0s - loss: 126217.48\n",
      "Epoch 67/250\n",
      "22/22 [==============================] - 0s 3ms/step - loss: 124802.9310\n",
      "Epoch 68/250\n",
      "22/22 [==============================] - 0s 10ms/step - loss: 115895.0445\n",
      "Epoch 69/250\n",
      "22/22 [==============================] - 0s 4ms/step - loss: 113506.2099\n",
      "Epoch 70/250\n",
      "22/22 [==============================] - 0s 2ms/step - loss: 105253.8611\n",
      "Epoch 71/250\n",
      "22/22 [==============================] - 0s 3ms/step - loss: 102237.7823\n",
      "Epoch 72/250\n",
      "22/22 [==============================] - 0s 2ms/step - loss: 96281.2171\n",
      "Epoch 73/250\n",
      "22/22 [==============================] - 0s 3ms/step - loss: 92518.4586\n",
      "Epoch 74/250\n",
      "22/22 [==============================] - 0s 3ms/step - loss: 85030.1753\n",
      "Epoch 75/250\n",
      "22/22 [==============================] - 0s 3ms/step - loss: 81042.1810\n",
      "Epoch 76/250\n",
      "22/22 [==============================] - 0s 3ms/step - loss: 76711.2106\n",
      "Epoch 77/250\n",
      "22/22 [==============================] - 0s 3ms/step - loss: 69851.0921\n",
      "Epoch 78/250\n",
      "22/22 [==============================] - 0s 3ms/step - loss: 66842.3108\n",
      "Epoch 79/250\n",
      "22/22 [==============================] - 0s 3ms/step - loss: 59291.8626\n",
      "Epoch 80/250\n",
      "22/22 [==============================] - 0s 2ms/step - loss: 55353.3246\n",
      "Epoch 81/250\n",
      "22/22 [==============================] - 0s 3ms/step - loss: 48597.2683\n",
      "Epoch 82/250\n",
      "22/22 [==============================] - 0s 2ms/step - loss: 44812.4647\n",
      "Epoch 83/250\n",
      "22/22 [==============================] - 0s 2ms/step - loss: 40381.1535\n",
      "Epoch 84/250\n",
      "22/22 [==============================] - 0s 3ms/step - loss: 35918.3050\n",
      "Epoch 85/250\n",
      "22/22 [==============================] - 0s 4ms/step - loss: 30939.2348\n",
      "Epoch 86/250\n",
      "22/22 [==============================] - 0s 2ms/step - loss: 26465.8755\n",
      "Epoch 87/250\n",
      "22/22 [==============================] - 0s 2ms/step - loss: 23611.9100\n",
      "Epoch 88/250\n",
      "22/22 [==============================] - 0s 2ms/step - loss: 19973.0108\n",
      "Epoch 89/250\n",
      "22/22 [==============================] - 0s 5ms/step - loss: 16216.1987\n",
      "Epoch 90/250\n",
      "22/22 [==============================] - 0s 3ms/step - loss: 13366.3880\n",
      "Epoch 91/250\n",
      "22/22 [==============================] - 0s 2ms/step - loss: 10606.6437\n",
      "Epoch 92/250\n",
      "22/22 [==============================] - 0s 3ms/step - loss: 7825.4233\n",
      "Epoch 93/250\n",
      "22/22 [==============================] - 0s 2ms/step - loss: 6248.9466\n",
      "Epoch 94/250\n",
      "22/22 [==============================] - 0s 3ms/step - loss: 4598.1688\n",
      "Epoch 95/250\n"
     ]
    },
    {
     "name": "stdout",
     "output_type": "stream",
     "text": [
      "22/22 [==============================] - 0s 3ms/step - loss: 3141.1097\n",
      "Epoch 96/250\n",
      "22/22 [==============================] - 0s 4ms/step - loss: 2620.7232\n",
      "Epoch 97/250\n",
      "22/22 [==============================] - 0s 3ms/step - loss: 2149.8178\n",
      "Epoch 98/250\n",
      "22/22 [==============================] - 0s 3ms/step - loss: 2055.2135\n",
      "Epoch 99/250\n",
      "22/22 [==============================] - 0s 4ms/step - loss: 1944.8354\n",
      "Epoch 100/250\n",
      "22/22 [==============================] - 0s 3ms/step - loss: 1827.0398\n",
      "Epoch 101/250\n",
      "22/22 [==============================] - 0s 3ms/step - loss: 1842.4953\n",
      "Epoch 102/250\n",
      "22/22 [==============================] - 0s 3ms/step - loss: 1967.4231\n",
      "Epoch 103/250\n",
      "22/22 [==============================] - 0s 2ms/step - loss: 1979.6460\n",
      "Epoch 104/250\n",
      "22/22 [==============================] - 0s 2ms/step - loss: 1870.5297\n",
      "Epoch 105/250\n",
      "22/22 [==============================] - 0s 3ms/step - loss: 1823.3304\n",
      "Epoch 106/250\n",
      "22/22 [==============================] - 0s 3ms/step - loss: 1717.1809\n",
      "Epoch 107/250\n",
      "22/22 [==============================] - 0s 3ms/step - loss: 1661.5329\n",
      "Epoch 108/250\n",
      "22/22 [==============================] - 0s 2ms/step - loss: 1811.2199\n",
      "Epoch 109/250\n",
      "22/22 [==============================] - 0s 2ms/step - loss: 1670.5658\n",
      "Epoch 110/250\n",
      "22/22 [==============================] - 0s 2ms/step - loss: 1574.1011\n",
      "Epoch 111/250\n",
      "22/22 [==============================] - 0s 3ms/step - loss: 1607.3904\n",
      "Epoch 112/250\n",
      "22/22 [==============================] - 0s 2ms/step - loss: 1403.0409\n",
      "Epoch 113/250\n",
      "22/22 [==============================] - 0s 3ms/step - loss: 1529.5397\n",
      "Epoch 114/250\n",
      "22/22 [==============================] - 0s 3ms/step - loss: 1457.1595\n",
      "Epoch 115/250\n",
      "22/22 [==============================] - 0s 2ms/step - loss: 1523.8813\n",
      "Epoch 116/250\n",
      "22/22 [==============================] - 0s 2ms/step - loss: 1531.0246\n",
      "Epoch 117/250\n",
      "22/22 [==============================] - 0s 2ms/step - loss: 1474.1803\n",
      "Epoch 118/250\n",
      "22/22 [==============================] - 0s 2ms/step - loss: 1408.2101\n",
      "Epoch 119/250\n",
      "22/22 [==============================] - 0s 3ms/step - loss: 1407.6497\n",
      "Epoch 120/250\n",
      "22/22 [==============================] - 0s 3ms/step - loss: 1436.8017\n",
      "Epoch 121/250\n",
      "22/22 [==============================] - 0s 3ms/step - loss: 1311.2733\n",
      "Epoch 122/250\n",
      "22/22 [==============================] - 0s 3ms/step - loss: 1368.1268\n",
      "Epoch 123/250\n",
      "22/22 [==============================] - 0s 3ms/step - loss: 1402.3278\n",
      "Epoch 124/250\n",
      "22/22 [==============================] - 0s 2ms/step - loss: 1370.4774\n",
      "Epoch 125/250\n",
      "22/22 [==============================] - 0s 2ms/step - loss: 1226.7908\n",
      "Epoch 126/250\n",
      "22/22 [==============================] - 0s 3ms/step - loss: 1258.4837\n",
      "Epoch 127/250\n",
      "22/22 [==============================] - 0s 2ms/step - loss: 1186.7348\n",
      "Epoch 128/250\n",
      "22/22 [==============================] - 0s 2ms/step - loss: 1297.3455\n",
      "Epoch 129/250\n",
      "22/22 [==============================] - 0s 3ms/step - loss: 1196.4154\n",
      "Epoch 130/250\n",
      "22/22 [==============================] - 0s 2ms/step - loss: 1174.8293\n",
      "Epoch 131/250\n",
      "22/22 [==============================] - 0s 3ms/step - loss: 1064.0028\n",
      "Epoch 132/250\n",
      "22/22 [==============================] - 0s 2ms/step - loss: 1157.9747\n",
      "Epoch 133/250\n",
      "22/22 [==============================] - 0s 3ms/step - loss: 970.7829\n",
      "Epoch 134/250\n",
      "22/22 [==============================] - 0s 2ms/step - loss: 1016.5009\n",
      "Epoch 135/250\n",
      "22/22 [==============================] - 0s 3ms/step - loss: 1014.2629\n",
      "Epoch 136/250\n",
      "22/22 [==============================] - 0s 3ms/step - loss: 993.2079\n",
      "Epoch 137/250\n",
      "22/22 [==============================] - 0s 3ms/step - loss: 971.5241\n",
      "Epoch 138/250\n",
      "22/22 [==============================] - 0s 3ms/step - loss: 936.3069\n",
      "Epoch 139/250\n",
      "22/22 [==============================] - 0s 3ms/step - loss: 861.2064\n",
      "Epoch 140/250\n",
      "22/22 [==============================] - 0s 3ms/step - loss: 964.9187\n",
      "Epoch 141/250\n",
      "22/22 [==============================] - 0s 3ms/step - loss: 973.4705\n",
      "Epoch 142/250\n",
      "22/22 [==============================] - 0s 3ms/step - loss: 830.2501\n",
      "Epoch 143/250\n",
      "22/22 [==============================] - 0s 3ms/step - loss: 834.4180\n",
      "Epoch 144/250\n",
      "22/22 [==============================] - 0s 3ms/step - loss: 832.5666\n",
      "Epoch 145/250\n",
      "22/22 [==============================] - 0s 3ms/step - loss: 818.5512\n",
      "Epoch 146/250\n",
      "22/22 [==============================] - 0s 2ms/step - loss: 789.7914\n",
      "Epoch 147/250\n",
      "22/22 [==============================] - 0s 3ms/step - loss: 761.0422\n",
      "Epoch 148/250\n",
      "22/22 [==============================] - 0s 3ms/step - loss: 718.2055\n",
      "Epoch 149/250\n",
      "22/22 [==============================] - 0s 4ms/step - loss: 728.1299\n",
      "Epoch 150/250\n",
      "22/22 [==============================] - 0s 3ms/step - loss: 672.7246\n",
      "Epoch 151/250\n",
      "22/22 [==============================] - 0s 3ms/step - loss: 697.7475\n",
      "Epoch 152/250\n",
      "22/22 [==============================] - 0s 2ms/step - loss: 626.3281\n",
      "Epoch 153/250\n",
      "22/22 [==============================] - 0s 3ms/step - loss: 639.4433\n",
      "Epoch 154/250\n",
      "22/22 [==============================] - 0s 3ms/step - loss: 649.9477\n",
      "Epoch 155/250\n",
      "22/22 [==============================] - 0s 2ms/step - loss: 621.3818\n",
      "Epoch 156/250\n",
      "22/22 [==============================] - 0s 2ms/step - loss: 572.7473\n",
      "Epoch 157/250\n",
      "22/22 [==============================] - 0s 3ms/step - loss: 613.9876\n",
      "Epoch 158/250\n",
      "22/22 [==============================] - 0s 3ms/step - loss: 554.8334\n",
      "Epoch 159/250\n",
      "22/22 [==============================] - 0s 3ms/step - loss: 507.0973\n",
      "Epoch 160/250\n",
      "22/22 [==============================] - 0s 9ms/step - loss: 516.3507\n",
      "Epoch 161/250\n",
      "22/22 [==============================] - 0s 11ms/step - loss: 480.7104: 0s - loss: 484.4\n",
      "Epoch 162/250\n",
      "22/22 [==============================] - 0s 4ms/step - loss: 485.8827\n",
      "Epoch 163/250\n",
      "22/22 [==============================] - 0s 5ms/step - loss: 435.9543\n",
      "Epoch 164/250\n",
      "22/22 [==============================] - 0s 3ms/step - loss: 440.7351\n",
      "Epoch 165/250\n",
      "22/22 [==============================] - 0s 3ms/step - loss: 464.9194\n",
      "Epoch 166/250\n",
      "22/22 [==============================] - 0s 4ms/step - loss: 407.1749\n",
      "Epoch 167/250\n",
      "22/22 [==============================] - 0s 4ms/step - loss: 393.9905\n",
      "Epoch 168/250\n",
      "22/22 [==============================] - 0s 3ms/step - loss: 355.6201\n",
      "Epoch 169/250\n",
      "22/22 [==============================] - 0s 4ms/step - loss: 381.6376\n",
      "Epoch 170/250\n",
      "22/22 [==============================] - 0s 3ms/step - loss: 332.5741\n",
      "Epoch 171/250\n",
      "22/22 [==============================] - 0s 3ms/step - loss: 336.3546\n",
      "Epoch 172/250\n",
      "22/22 [==============================] - 0s 4ms/step - loss: 303.7305\n",
      "Epoch 173/250\n",
      "22/22 [==============================] - 0s 5ms/step - loss: 295.5348\n",
      "Epoch 174/250\n",
      "22/22 [==============================] - 0s 5ms/step - loss: 298.9684\n",
      "Epoch 175/250\n",
      "22/22 [==============================] - 0s 4ms/step - loss: 268.9195\n",
      "Epoch 176/250\n",
      "22/22 [==============================] - 0s 11ms/step - loss: 248.4213\n",
      "Epoch 177/250\n",
      "22/22 [==============================] - 0s 4ms/step - loss: 256.2164\n",
      "Epoch 178/250\n",
      "22/22 [==============================] - 0s 4ms/step - loss: 218.2073\n",
      "Epoch 179/250\n",
      "22/22 [==============================] - 0s 5ms/step - loss: 218.9326A: 0s - loss: 214.502\n",
      "Epoch 180/250\n",
      "22/22 [==============================] - 0s 4ms/step - loss: 218.6034\n",
      "Epoch 181/250\n",
      "22/22 [==============================] - 0s 4ms/step - loss: 184.2698\n",
      "Epoch 182/250\n",
      "22/22 [==============================] - 0s 4ms/step - loss: 203.3670\n",
      "Epoch 183/250\n",
      "22/22 [==============================] - 0s 4ms/step - loss: 171.9254\n",
      "Epoch 184/250\n",
      "22/22 [==============================] - 0s 4ms/step - loss: 159.2417\n",
      "Epoch 185/250\n",
      "22/22 [==============================] - 0s 4ms/step - loss: 156.9030\n",
      "Epoch 186/250\n",
      "22/22 [==============================] - 0s 4ms/step - loss: 135.0117\n",
      "Epoch 187/250\n",
      "22/22 [==============================] - 0s 4ms/step - loss: 138.9557\n",
      "Epoch 188/250\n",
      "22/22 [==============================] - 0s 4ms/step - loss: 127.8798\n",
      "Epoch 189/250\n",
      "22/22 [==============================] - 0s 4ms/step - loss: 121.3775\n",
      "Epoch 190/250\n",
      "22/22 [==============================] - 0s 5ms/step - loss: 114.5361\n",
      "Epoch 191/250\n"
     ]
    },
    {
     "name": "stdout",
     "output_type": "stream",
     "text": [
      "22/22 [==============================] - 0s 4ms/step - loss: 100.5125\n",
      "Epoch 192/250\n",
      "22/22 [==============================] - 0s 4ms/step - loss: 92.3502\n",
      "Epoch 193/250\n",
      "22/22 [==============================] - 0s 5ms/step - loss: 99.1043\n",
      "Epoch 194/250\n",
      "22/22 [==============================] - 0s 6ms/step - loss: 90.5550\n",
      "Epoch 195/250\n",
      "22/22 [==============================] - 0s 6ms/step - loss: 76.5482\n",
      "Epoch 196/250\n",
      "22/22 [==============================] - 0s 4ms/step - loss: 73.6571\n",
      "Epoch 197/250\n",
      "22/22 [==============================] - 0s 4ms/step - loss: 67.1412\n",
      "Epoch 198/250\n",
      "22/22 [==============================] - 0s 4ms/step - loss: 59.8831\n",
      "Epoch 199/250\n",
      "22/22 [==============================] - 0s 4ms/step - loss: 57.1544\n",
      "Epoch 200/250\n",
      "22/22 [==============================] - 0s 4ms/step - loss: 56.1882\n",
      "Epoch 201/250\n",
      "22/22 [==============================] - 0s 4ms/step - loss: 50.7027: 0s - loss: 50.66\n",
      "Epoch 202/250\n",
      "22/22 [==============================] - 0s 4ms/step - loss: 48.8871\n",
      "Epoch 203/250\n",
      "22/22 [==============================] - 0s 4ms/step - loss: 46.1976\n",
      "Epoch 204/250\n",
      "22/22 [==============================] - 0s 4ms/step - loss: 43.2053\n",
      "Epoch 205/250\n",
      "22/22 [==============================] - 0s 5ms/step - loss: 40.2544\n",
      "Epoch 206/250\n",
      "22/22 [==============================] - 0s 5ms/step - loss: 36.3553\n",
      "Epoch 207/250\n",
      "22/22 [==============================] - 0s 4ms/step - loss: 34.1925\n",
      "Epoch 208/250\n",
      "22/22 [==============================] - 0s 4ms/step - loss: 34.5722\n",
      "Epoch 209/250\n",
      "22/22 [==============================] - 0s 4ms/step - loss: 32.1860\n",
      "Epoch 210/250\n",
      "22/22 [==============================] - 0s 4ms/step - loss: 27.5393\n",
      "Epoch 211/250\n",
      "22/22 [==============================] - 0s 4ms/step - loss: 31.6987\n",
      "Epoch 212/250\n",
      "22/22 [==============================] - 0s 3ms/step - loss: 30.5079\n",
      "Epoch 213/250\n",
      "22/22 [==============================] - 0s 3ms/step - loss: 28.1945\n",
      "Epoch 214/250\n",
      "22/22 [==============================] - 0s 2ms/step - loss: 25.8127\n",
      "Epoch 215/250\n",
      "22/22 [==============================] - 0s 3ms/step - loss: 26.1497\n",
      "Epoch 216/250\n",
      "22/22 [==============================] - 0s 3ms/step - loss: 25.6668\n",
      "Epoch 217/250\n",
      "22/22 [==============================] - 0s 3ms/step - loss: 28.2659\n",
      "Epoch 218/250\n",
      "22/22 [==============================] - 0s 3ms/step - loss: 27.3565\n",
      "Epoch 219/250\n",
      "22/22 [==============================] - 0s 3ms/step - loss: 25.2899\n",
      "Epoch 220/250\n",
      "22/22 [==============================] - 0s 3ms/step - loss: 25.3742\n",
      "Epoch 221/250\n",
      "22/22 [==============================] - 0s 2ms/step - loss: 25.3203\n",
      "Epoch 222/250\n",
      "22/22 [==============================] - 0s 3ms/step - loss: 25.2054\n",
      "Epoch 223/250\n",
      "22/22 [==============================] - 0s 3ms/step - loss: 26.1992\n",
      "Epoch 224/250\n",
      "22/22 [==============================] - 0s 3ms/step - loss: 24.7108\n",
      "Epoch 225/250\n",
      "22/22 [==============================] - 0s 4ms/step - loss: 25.5968\n",
      "Epoch 226/250\n",
      "22/22 [==============================] - 0s 5ms/step - loss: 21.5749\n",
      "Epoch 227/250\n",
      "22/22 [==============================] - 0s 3ms/step - loss: 26.7166\n",
      "Epoch 228/250\n",
      "22/22 [==============================] - 0s 3ms/step - loss: 23.9051\n",
      "Epoch 229/250\n",
      "22/22 [==============================] - 0s 4ms/step - loss: 24.6031\n",
      "Epoch 230/250\n",
      "22/22 [==============================] - 0s 3ms/step - loss: 24.6630\n",
      "Epoch 231/250\n",
      "22/22 [==============================] - 0s 3ms/step - loss: 25.5892\n",
      "Epoch 232/250\n",
      "22/22 [==============================] - 0s 3ms/step - loss: 24.2738\n",
      "Epoch 233/250\n",
      "22/22 [==============================] - 0s 3ms/step - loss: 24.9196\n",
      "Epoch 234/250\n",
      "22/22 [==============================] - 0s 3ms/step - loss: 25.0125\n",
      "Epoch 235/250\n",
      "22/22 [==============================] - 0s 3ms/step - loss: 23.7697\n",
      "Epoch 236/250\n",
      "22/22 [==============================] - 0s 3ms/step - loss: 25.8264\n",
      "Epoch 237/250\n",
      "22/22 [==============================] - 0s 3ms/step - loss: 23.3614\n",
      "Epoch 238/250\n",
      "22/22 [==============================] - 0s 3ms/step - loss: 25.9463\n",
      "Epoch 239/250\n",
      "22/22 [==============================] - 0s 3ms/step - loss: 23.3240\n",
      "Epoch 240/250\n",
      "22/22 [==============================] - 0s 3ms/step - loss: 23.9456\n",
      "Epoch 241/250\n",
      "22/22 [==============================] - 0s 2ms/step - loss: 23.0282\n",
      "Epoch 242/250\n",
      "22/22 [==============================] - 0s 3ms/step - loss: 23.1715\n",
      "Epoch 243/250\n",
      "22/22 [==============================] - 0s 6ms/step - loss: 23.2718\n",
      "Epoch 244/250\n",
      "22/22 [==============================] - 0s 5ms/step - loss: 25.3677\n",
      "Epoch 245/250\n",
      "22/22 [==============================] - 0s 3ms/step - loss: 24.7668\n",
      "Epoch 246/250\n",
      "22/22 [==============================] - 0s 3ms/step - loss: 22.9498\n",
      "Epoch 247/250\n",
      "22/22 [==============================] - 0s 3ms/step - loss: 22.8305\n",
      "Epoch 248/250\n",
      "22/22 [==============================] - 0s 3ms/step - loss: 22.6367\n",
      "Epoch 249/250\n",
      "22/22 [==============================] - 0s 3ms/step - loss: 27.4724\n",
      "Epoch 250/250\n",
      "22/22 [==============================] - 0s 3ms/step - loss: 24.2829\n"
     ]
    },
    {
     "data": {
      "text/plain": [
       "<tensorflow.python.keras.callbacks.History at 0x27afe7d5c10>"
      ]
     },
     "execution_count": 17,
     "metadata": {},
     "output_type": "execute_result"
    }
   ],
   "source": [
    "model.fit(x=X_train,y=y_train,epochs=250)"
   ]
  },
  {
   "cell_type": "code",
   "execution_count": 18,
   "metadata": {},
   "outputs": [],
   "source": [
    "loss_df = pd.DataFrame(model.history.history)"
   ]
  },
  {
   "cell_type": "code",
   "execution_count": 19,
   "metadata": {},
   "outputs": [
    {
     "data": {
      "text/plain": [
       "<AxesSubplot:>"
      ]
     },
     "execution_count": 19,
     "metadata": {},
     "output_type": "execute_result"
    },
    {
     "data": {
      "image/png": "[encoded data removed]",
      "text/plain": [
       "<Figure size 432x288 with 1 Axes>"
      ]
     },
     "metadata": {
      "needs_background": "light"
     },
     "output_type": "display_data"
    }
   ],
   "source": [
    "loss_df.plot()"
   ]
  },
  {
   "cell_type": "code",
   "execution_count": 20,
   "metadata": {},
   "outputs": [
    {
     "data": {
      "text/plain": [
       "23.92319679260254"
      ]
     },
     "execution_count": 20,
     "metadata": {},
     "output_type": "execute_result"
    }
   ],
   "source": [
    "model.evaluate(X_train,y_train,verbose=0)"
   ]
  },
  {
   "cell_type": "code",
   "execution_count": 21,
   "metadata": {},
   "outputs": [
    {
     "data": {
      "text/plain": [
       "25.7083740234375"
      ]
     },
     "execution_count": 21,
     "metadata": {},
     "output_type": "execute_result"
    }
   ],
   "source": [
    "model.evaluate(X_test,y_test,verbose=0)"
   ]
  },
  {
   "cell_type": "code",
   "execution_count": 22,
   "metadata": {},
   "outputs": [],
   "source": [
    "test_prediction = model.predict(X_test)"
   ]
  },
  {
   "cell_type": "code",
   "execution_count": 23,
   "metadata": {},
   "outputs": [],
   "source": [
    "test_prediction = pd.Series(test_prediction.reshape(300,))"
   ]
  },
  {
   "cell_type": "code",
   "execution_count": 24,
   "metadata": {},
   "outputs": [
    {
     "data": {
      "text/plain": [
       "0      405.931488\n",
       "1      624.447083\n",
       "2      592.981995\n",
       "3      573.114563\n",
       "4      367.294281\n",
       "          ...    \n",
       "295    529.874390\n",
       "296    515.849121\n",
       "297    610.532776\n",
       "298    417.572021\n",
       "299    411.556152\n",
       "Length: 300, dtype: float32"
      ]
     },
     "execution_count": 24,
     "metadata": {},
     "output_type": "execute_result"
    }
   ],
   "source": [
    "test_prediction"
   ]
  },
  {
   "cell_type": "code",
   "execution_count": 25,
   "metadata": {},
   "outputs": [],
   "source": [
    "df_prediction = pd.DataFrame(y_test,columns=['true_values'])"
   ]
  },
  {
   "cell_type": "code",
   "execution_count": 26,
   "metadata": {},
   "outputs": [
    {
     "data": {
      "text/html": [
       "<div>\n",
       "<style scoped>\n",
       "    .dataframe tbody tr th:only-of-type {\n",
       "        vertical-align: middle;\n",
       "    }\n",
       "\n",
       "    .dataframe tbody tr th {\n",
       "        vertical-align: top;\n",
       "    }\n",
       "\n",
       "    .dataframe thead th {\n",
       "        text-align: right;\n",
       "    }\n",
       "</style>\n",
       "<table border=\"1\" class=\"dataframe\">\n",
       "  <thead>\n",
       "    <tr style=\"text-align: right;\">\n",
       "      <th></th>\n",
       "      <th>true_values</th>\n",
       "    </tr>\n",
       "  </thead>\n",
       "  <tbody>\n",
       "    <tr>\n",
       "      <th>0</th>\n",
       "      <td>402.296319</td>\n",
       "    </tr>\n",
       "    <tr>\n",
       "      <th>1</th>\n",
       "      <td>624.156198</td>\n",
       "    </tr>\n",
       "    <tr>\n",
       "      <th>2</th>\n",
       "      <td>582.455066</td>\n",
       "    </tr>\n",
       "    <tr>\n",
       "      <th>3</th>\n",
       "      <td>578.588606</td>\n",
       "    </tr>\n",
       "    <tr>\n",
       "      <th>4</th>\n",
       "      <td>371.224104</td>\n",
       "    </tr>\n",
       "    <tr>\n",
       "      <th>...</th>\n",
       "      <td>...</td>\n",
       "    </tr>\n",
       "    <tr>\n",
       "      <th>295</th>\n",
       "      <td>525.704657</td>\n",
       "    </tr>\n",
       "    <tr>\n",
       "      <th>296</th>\n",
       "      <td>502.909473</td>\n",
       "    </tr>\n",
       "    <tr>\n",
       "      <th>297</th>\n",
       "      <td>612.727910</td>\n",
       "    </tr>\n",
       "    <tr>\n",
       "      <th>298</th>\n",
       "      <td>417.569725</td>\n",
       "    </tr>\n",
       "    <tr>\n",
       "      <th>299</th>\n",
       "      <td>410.538250</td>\n",
       "    </tr>\n",
       "  </tbody>\n",
       "</table>\n",
       "<p>300 rows × 1 columns</p>\n",
       "</div>"
      ],
      "text/plain": [
       "     true_values\n",
       "0     402.296319\n",
       "1     624.156198\n",
       "2     582.455066\n",
       "3     578.588606\n",
       "4     371.224104\n",
       "..           ...\n",
       "295   525.704657\n",
       "296   502.909473\n",
       "297   612.727910\n",
       "298   417.569725\n",
       "299   410.538250\n",
       "\n",
       "[300 rows x 1 columns]"
      ]
     },
     "execution_count": 26,
     "metadata": {},
     "output_type": "execute_result"
    }
   ],
   "source": [
    "df_prediction"
   ]
  },
  {
   "cell_type": "code",
   "execution_count": 27,
   "metadata": {},
   "outputs": [],
   "source": [
    "df_prediction = pd.concat([df_prediction,test_prediction],axis=1)"
   ]
  },
  {
   "cell_type": "code",
   "execution_count": 28,
   "metadata": {},
   "outputs": [],
   "source": [
    "df_prediction.columns = ['true_values','prediction']"
   ]
  },
  {
   "cell_type": "code",
   "execution_count": 29,
   "metadata": {},
   "outputs": [
    {
     "data": {
      "text/html": [
       "<div>\n",
       "<style scoped>\n",
       "    .dataframe tbody tr th:only-of-type {\n",
       "        vertical-align: middle;\n",
       "    }\n",
       "\n",
       "    .dataframe tbody tr th {\n",
       "        vertical-align: top;\n",
       "    }\n",
       "\n",
       "    .dataframe thead th {\n",
       "        text-align: right;\n",
       "    }\n",
       "</style>\n",
       "<table border=\"1\" class=\"dataframe\">\n",
       "  <thead>\n",
       "    <tr style=\"text-align: right;\">\n",
       "      <th></th>\n",
       "      <th>true_values</th>\n",
       "      <th>prediction</th>\n",
       "    </tr>\n",
       "  </thead>\n",
       "  <tbody>\n",
       "    <tr>\n",
       "      <th>0</th>\n",
       "      <td>402.296319</td>\n",
       "      <td>405.931488</td>\n",
       "    </tr>\n",
       "    <tr>\n",
       "      <th>1</th>\n",
       "      <td>624.156198</td>\n",
       "      <td>624.447083</td>\n",
       "    </tr>\n",
       "    <tr>\n",
       "      <th>2</th>\n",
       "      <td>582.455066</td>\n",
       "      <td>592.981995</td>\n",
       "    </tr>\n",
       "    <tr>\n",
       "      <th>3</th>\n",
       "      <td>578.588606</td>\n",
       "      <td>573.114563</td>\n",
       "    </tr>\n",
       "    <tr>\n",
       "      <th>4</th>\n",
       "      <td>371.224104</td>\n",
       "      <td>367.294281</td>\n",
       "    </tr>\n",
       "    <tr>\n",
       "      <th>...</th>\n",
       "      <td>...</td>\n",
       "      <td>...</td>\n",
       "    </tr>\n",
       "    <tr>\n",
       "      <th>295</th>\n",
       "      <td>525.704657</td>\n",
       "      <td>529.874390</td>\n",
       "    </tr>\n",
       "    <tr>\n",
       "      <th>296</th>\n",
       "      <td>502.909473</td>\n",
       "      <td>515.849121</td>\n",
       "    </tr>\n",
       "    <tr>\n",
       "      <th>297</th>\n",
       "      <td>612.727910</td>\n",
       "      <td>610.532776</td>\n",
       "    </tr>\n",
       "    <tr>\n",
       "      <th>298</th>\n",
       "      <td>417.569725</td>\n",
       "      <td>417.572021</td>\n",
       "    </tr>\n",
       "    <tr>\n",
       "      <th>299</th>\n",
       "      <td>410.538250</td>\n",
       "      <td>411.556152</td>\n",
       "    </tr>\n",
       "  </tbody>\n",
       "</table>\n",
       "<p>300 rows × 2 columns</p>\n",
       "</div>"
      ],
      "text/plain": [
       "     true_values  prediction\n",
       "0     402.296319  405.931488\n",
       "1     624.156198  624.447083\n",
       "2     582.455066  592.981995\n",
       "3     578.588606  573.114563\n",
       "4     371.224104  367.294281\n",
       "..           ...         ...\n",
       "295   525.704657  529.874390\n",
       "296   502.909473  515.849121\n",
       "297   612.727910  610.532776\n",
       "298   417.569725  417.572021\n",
       "299   410.538250  411.556152\n",
       "\n",
       "[300 rows x 2 columns]"
      ]
     },
     "execution_count": 29,
     "metadata": {},
     "output_type": "execute_result"
    }
   ],
   "source": [
    "df_prediction"
   ]
  },
  {
   "cell_type": "code",
   "execution_count": 30,
   "metadata": {},
   "outputs": [],
   "source": [
    "new_gem = [[998,1000]]"
   ]
  },
  {
   "cell_type": "code",
   "execution_count": 31,
   "metadata": {},
   "outputs": [],
   "source": [
    "new_gem = scaler.transform(new_gem)"
   ]
  },
  {
   "cell_type": "code",
   "execution_count": 32,
   "metadata": {},
   "outputs": [
    {
     "data": {
      "text/plain": [
       "array([[0.14117652, 0.53968792]])"
      ]
     },
     "execution_count": 32,
     "metadata": {},
     "output_type": "execute_result"
    }
   ],
   "source": [
    "new_gem"
   ]
  },
  {
   "cell_type": "code",
   "execution_count": 33,
   "metadata": {},
   "outputs": [],
   "source": [
    "res = model.predict(new_gem)"
   ]
  },
  {
   "cell_type": "code",
   "execution_count": 34,
   "metadata": {},
   "outputs": [
    {
     "name": "stdout",
     "output_type": "stream",
     "text": [
      "the price of this model is 420.423095703125 rupees\n"
     ]
    }
   ],
   "source": [
    "print(f\"the price of this model is {res[0][0]} rupees\")"
   ]
  },
  {
   "cell_type": "code",
   "execution_count": 35,
   "metadata": {},
   "outputs": [],
   "source": [
    "from tensorflow.keras.models import load_model"
   ]
  },
  {
   "cell_type": "code",
   "execution_count": 36,
   "metadata": {},
   "outputs": [],
   "source": [
    "model.save(\"my_gem_model.h5\")"
   ]
  },
  {
   "cell_type": "code",
   "execution_count": 37,
   "metadata": {},
   "outputs": [],
   "source": [
    "model = load_model(\"my_gem_model.h5\")"
   ]
  },
  {
   "cell_type": "code",
   "execution_count": 42,
   "metadata": {},
   "outputs": [
    {
     "data": {
      "text/plain": [
       "array([[420.4231]], dtype=float32)"
      ]
     },
     "execution_count": 42,
     "metadata": {},
     "output_type": "execute_result"
    }
   ],
   "source": [
    "model.predict(new_gem)"
   ]
  },
  {
   "cell_type": "code",
   "execution_count": 43,
   "metadata": {},
   "outputs": [
    {
     "data": {
      "text/plain": [
       "array([[420.4231]], dtype=float32)"
      ]
     },
     "execution_count": 43,
     "metadata": {},
     "output_type": "execute_result"
    }
   ],
   "source": [
    "model.predict(new_gem)"
   ]
  },
  {
   "cell_type": "code",
   "execution_count": 44,
   "metadata": {},
   "outputs": [],
   "source": [
    "value = scaler.transform([[498,1234]])"
   ]
  },
  {
   "cell_type": "code",
   "execution_count": 47,
   "metadata": {},
   "outputs": [
    {
     "name": "stdout",
     "output_type": "stream",
     "text": [
      "the predicted price is 1198.523681640625\n"
     ]
    }
   ],
   "source": [
    "print(f'the predicted price is {model.predict(value)[0][0]}')"
   ]
  },
  {
   "cell_type": "code",
   "execution_count": null,
   "metadata": {},
   "outputs": [],
   "source": []
  }
 ],
 "metadata": {
  "kernelspec": {
   "display_name": "py3.8.5",
   "language": "python",
   "name": "py3.8.5"
  },
  "language_info": {
   "codemirror_mode": {
    "name": "ipython",
    "version": 3
   },
   "file_extension": ".py",
   "mimetype": "text/x-python",
   "name": "python",
   "nbconvert_exporter": "python",
   "pygments_lexer": "ipython3",
   "version": "3.8.5"
  }
 },
 "nbformat": 4,
 "nbformat_minor": 4
}
